{
  "nbformat": 4,
  "nbformat_minor": 0,
  "metadata": {
    "colab": {
      "name": "MTCNN vs HAAR vs DLIB.ipynb",
      "provenance": [],
      "collapsed_sections": []
    },
    "kernelspec": {
      "name": "python3",
      "display_name": "Python 3"
    },
    "accelerator": "GPU"
  },
  "cells": [
    {
      "cell_type": "code",
      "metadata": {
        "id": "gKTZLCjM-ThN",
        "colab_type": "code",
        "outputId": "a3c5ae9a-c8dd-4ffc-b83c-285aa952273e",
        "colab": {
          "base_uri": "https://localhost:8080/",
          "height": 127
        }
      },
      "source": [
        "from google.colab import drive\n",
        "drive.mount('/content/drive')"
      ],
      "execution_count": 1,
      "outputs": [
        {
          "output_type": "stream",
          "text": [
            "Go to this URL in a browser: https://accounts.google.com/o/oauth2/auth?client_id=947318989803-6bn6qk8qdgf4n4g3pfee6491hc0brc4i.apps.googleusercontent.com&redirect_uri=urn%3aietf%3awg%3aoauth%3a2.0%3aoob&response_type=code&scope=email%20https%3a%2f%2fwww.googleapis.com%2fauth%2fdocs.test%20https%3a%2f%2fwww.googleapis.com%2fauth%2fdrive%20https%3a%2f%2fwww.googleapis.com%2fauth%2fdrive.photos.readonly%20https%3a%2f%2fwww.googleapis.com%2fauth%2fpeopleapi.readonly\n",
            "\n",
            "Enter your authorization code:\n",
            "··········\n",
            "Mounted at /content/drive\n"
          ],
          "name": "stdout"
        }
      ]
    },
    {
      "cell_type": "markdown",
      "metadata": {
        "id": "vpoA5fRI9rY5",
        "colab_type": "text"
      },
      "source": [
        "Performance comparision between MTCNN Vs. HAAR Cascading Vs. DLIB for face detection"
      ]
    },
    {
      "cell_type": "markdown",
      "metadata": {
        "id": "UOwSggk99-_6",
        "colab_type": "text"
      },
      "source": [
        "**HAAR**"
      ]
    },
    {
      "cell_type": "code",
      "metadata": {
        "id": "er9nJGtg98op",
        "colab_type": "code",
        "outputId": "24296e6c-83ce-4d3e-99fa-8a046f67a232",
        "colab": {
          "base_uri": "https://localhost:8080/",
          "height": 143
        }
      },
      "source": [
        "import cv2\n",
        "import time\n",
        "import os\n",
        "\n",
        "# Load the cascade\n",
        "face_cascade = cv2.CascadeClassifier('/content/drive/My Drive/SIH Project/haarcascade_frontalface_default.xml')\n",
        "count = 0\n",
        "withoutface = 0\n",
        "withface = 0\n",
        "totalfaces = 0\n",
        "test_filenames = filter(lambda x: x.endswith('.jpg'), os.listdir('/content/drive/My Drive/SIH Project/FaceTestData/'))\n",
        "# Get full paths to test images\n",
        "paths_to_test_images = ['/content/drive/My Drive/SIH Project/FaceTestData/' + x for x in test_filenames]\n",
        "start = time.time()\n",
        "for data_path in paths_to_test_images:\n",
        "    img = cv2.imread(data_path)\n",
        "    # Convert to grayscale\n",
        "    imgframe = img\n",
        "    gray = cv2.cvtColor(img, cv2.COLOR_BGR2GRAY)\n",
        "    # Detect the faces\n",
        "    faces = face_cascade.detectMultiScale(gray, 1.1, 4)\n",
        "    # Draw the rectangle around each face\n",
        "    for (x, y, w, h) in faces:\n",
        "       cv2.rectangle(imgframe, (x, y), (x+w, y+h), (255, 0, 0), 2)\n",
        "       totalfaces = totalfaces + 1\n",
        "\n",
        "    if len(faces)>0:\n",
        "        withface = withface + 1\n",
        "        cv2.imwrite('/content/drive/My Drive/SIH Project/HaarResult/FaceDetected/img_{}.jpg'.format(count),imgframe)\n",
        "    else:\n",
        "        withoutface = withoutface + 1\n",
        "        cv2.imwrite('/content/drive/My Drive/SIH Project/HaarResult/NoFaceDetected/img_{}.jpg'.format(count),imgframe)\n",
        "    count = count + 1\n",
        "else:\n",
        "    end = time.time()\n",
        "    print(\"USING HAAR:\")\n",
        "    print(\"Total test images with faces : {}\".format(len(paths_to_test_images)))\n",
        "    print(\"Sucessfully tested {} images\".format(count))\n",
        "    print(\"Execution time in seconds {}\".format(end-start))\n",
        "    print(\"Total Faces Detected {}\".format(totalfaces))\n",
        "    print(\"Images with Faces {}\".format(withface))\n",
        "    print(\"Images without Faces {}\".format(withoutface))    "
      ],
      "execution_count": 2,
      "outputs": [
        {
          "output_type": "stream",
          "text": [
            "USING HAAR:\n",
            "Total test images with faces : 134\n",
            "Sucessfully tested 134 images\n",
            "Execution time in seconds 83.03262686729431\n",
            "Total Faces Detected 145\n",
            "Images with Faces 121\n",
            "Images without Faces 13\n"
          ],
          "name": "stdout"
        }
      ]
    },
    {
      "cell_type": "markdown",
      "metadata": {
        "id": "zHsG9ssJ-DKg",
        "colab_type": "text"
      },
      "source": [
        "**MTCNN**"
      ]
    },
    {
      "cell_type": "code",
      "metadata": {
        "id": "JcnXQKoAHhJ1",
        "colab_type": "code",
        "outputId": "59ed430a-b678-4c66-936f-d8f20c3cda93",
        "colab": {
          "base_uri": "https://localhost:8080/",
          "height": 289
        }
      },
      "source": [
        "!pip install mtcnn"
      ],
      "execution_count": 3,
      "outputs": [
        {
          "output_type": "stream",
          "text": [
            "Collecting mtcnn\n",
            "\u001b[?25l  Downloading https://files.pythonhosted.org/packages/67/43/abee91792797c609c1bf30f1112117f7a87a713ebaa6ec5201d5555a73ef/mtcnn-0.1.0-py3-none-any.whl (2.3MB)\n",
            "\r\u001b[K     |▏                               | 10kB 3.7MB/s eta 0:00:01\r\u001b[K     |▎                               | 20kB 6.0MB/s eta 0:00:01\r\u001b[K     |▍                               | 30kB 8.4MB/s eta 0:00:01\r\u001b[K     |▋                               | 40kB 10.1MB/s eta 0:00:01\r\u001b[K     |▊                               | 51kB 12.0MB/s eta 0:00:01\r\u001b[K     |▉                               | 61kB 13.7MB/s eta 0:00:01\r\u001b[K     |█                               | 71kB 15.1MB/s eta 0:00:01\r\u001b[K     |█▏                              | 81kB 16.3MB/s eta 0:00:01\r\u001b[K     |█▎                              | 92kB 17.6MB/s eta 0:00:01\r\u001b[K     |█▌                              | 102kB 18.8MB/s eta 0:00:01\r\u001b[K     |█▋                              | 112kB 18.8MB/s eta 0:00:01\r\u001b[K     |█▊                              | 122kB 18.8MB/s eta 0:00:01\r\u001b[K     |█▉                              | 133kB 18.8MB/s eta 0:00:01\r\u001b[K     |██                              | 143kB 18.8MB/s eta 0:00:01\r\u001b[K     |██▏                             | 153kB 18.8MB/s eta 0:00:01\r\u001b[K     |██▎                             | 163kB 18.8MB/s eta 0:00:01\r\u001b[K     |██▌                             | 174kB 18.8MB/s eta 0:00:01\r\u001b[K     |██▋                             | 184kB 18.8MB/s eta 0:00:01\r\u001b[K     |██▊                             | 194kB 18.8MB/s eta 0:00:01\r\u001b[K     |███                             | 204kB 18.8MB/s eta 0:00:01\r\u001b[K     |███                             | 215kB 18.8MB/s eta 0:00:01\r\u001b[K     |███▏                            | 225kB 18.8MB/s eta 0:00:01\r\u001b[K     |███▍                            | 235kB 18.8MB/s eta 0:00:01\r\u001b[K     |███▌                            | 245kB 18.8MB/s eta 0:00:01\r\u001b[K     |███▋                            | 256kB 18.8MB/s eta 0:00:01\r\u001b[K     |███▊                            | 266kB 18.8MB/s eta 0:00:01\r\u001b[K     |████                            | 276kB 18.8MB/s eta 0:00:01\r\u001b[K     |████                            | 286kB 18.8MB/s eta 0:00:01\r\u001b[K     |████▏                           | 296kB 18.8MB/s eta 0:00:01\r\u001b[K     |████▍                           | 307kB 18.8MB/s eta 0:00:01\r\u001b[K     |████▌                           | 317kB 18.8MB/s eta 0:00:01\r\u001b[K     |████▋                           | 327kB 18.8MB/s eta 0:00:01\r\u001b[K     |████▉                           | 337kB 18.8MB/s eta 0:00:01\r\u001b[K     |█████                           | 348kB 18.8MB/s eta 0:00:01\r\u001b[K     |█████                           | 358kB 18.8MB/s eta 0:00:01\r\u001b[K     |█████▏                          | 368kB 18.8MB/s eta 0:00:01\r\u001b[K     |█████▍                          | 378kB 18.8MB/s eta 0:00:01\r\u001b[K     |█████▌                          | 389kB 18.8MB/s eta 0:00:01\r\u001b[K     |█████▋                          | 399kB 18.8MB/s eta 0:00:01\r\u001b[K     |█████▉                          | 409kB 18.8MB/s eta 0:00:01\r\u001b[K     |██████                          | 419kB 18.8MB/s eta 0:00:01\r\u001b[K     |██████                          | 430kB 18.8MB/s eta 0:00:01\r\u001b[K     |██████▎                         | 440kB 18.8MB/s eta 0:00:01\r\u001b[K     |██████▍                         | 450kB 18.8MB/s eta 0:00:01\r\u001b[K     |██████▌                         | 460kB 18.8MB/s eta 0:00:01\r\u001b[K     |██████▊                         | 471kB 18.8MB/s eta 0:00:01\r\u001b[K     |██████▉                         | 481kB 18.8MB/s eta 0:00:01\r\u001b[K     |███████                         | 491kB 18.8MB/s eta 0:00:01\r\u001b[K     |███████                         | 501kB 18.8MB/s eta 0:00:01\r\u001b[K     |███████▎                        | 512kB 18.8MB/s eta 0:00:01\r\u001b[K     |███████▍                        | 522kB 18.8MB/s eta 0:00:01\r\u001b[K     |███████▌                        | 532kB 18.8MB/s eta 0:00:01\r\u001b[K     |███████▊                        | 542kB 18.8MB/s eta 0:00:01\r\u001b[K     |███████▉                        | 552kB 18.8MB/s eta 0:00:01\r\u001b[K     |████████                        | 563kB 18.8MB/s eta 0:00:01\r\u001b[K     |████████▏                       | 573kB 18.8MB/s eta 0:00:01\r\u001b[K     |████████▎                       | 583kB 18.8MB/s eta 0:00:01\r\u001b[K     |████████▍                       | 593kB 18.8MB/s eta 0:00:01\r\u001b[K     |████████▌                       | 604kB 18.8MB/s eta 0:00:01\r\u001b[K     |████████▊                       | 614kB 18.8MB/s eta 0:00:01\r\u001b[K     |████████▉                       | 624kB 18.8MB/s eta 0:00:01\r\u001b[K     |█████████                       | 634kB 18.8MB/s eta 0:00:01\r\u001b[K     |█████████▏                      | 645kB 18.8MB/s eta 0:00:01\r\u001b[K     |█████████▎                      | 655kB 18.8MB/s eta 0:00:01\r\u001b[K     |█████████▍                      | 665kB 18.8MB/s eta 0:00:01\r\u001b[K     |█████████▋                      | 675kB 18.8MB/s eta 0:00:01\r\u001b[K     |█████████▊                      | 686kB 18.8MB/s eta 0:00:01\r\u001b[K     |█████████▉                      | 696kB 18.8MB/s eta 0:00:01\r\u001b[K     |██████████                      | 706kB 18.8MB/s eta 0:00:01\r\u001b[K     |██████████▏                     | 716kB 18.8MB/s eta 0:00:01\r\u001b[K     |██████████▎                     | 727kB 18.8MB/s eta 0:00:01\r\u001b[K     |██████████▍                     | 737kB 18.8MB/s eta 0:00:01\r\u001b[K     |██████████▋                     | 747kB 18.8MB/s eta 0:00:01\r\u001b[K     |██████████▊                     | 757kB 18.8MB/s eta 0:00:01\r\u001b[K     |██████████▉                     | 768kB 18.8MB/s eta 0:00:01\r\u001b[K     |███████████                     | 778kB 18.8MB/s eta 0:00:01\r\u001b[K     |███████████▏                    | 788kB 18.8MB/s eta 0:00:01\r\u001b[K     |███████████▎                    | 798kB 18.8MB/s eta 0:00:01\r\u001b[K     |███████████▌                    | 808kB 18.8MB/s eta 0:00:01\r\u001b[K     |███████████▋                    | 819kB 18.8MB/s eta 0:00:01\r\u001b[K     |███████████▊                    | 829kB 18.8MB/s eta 0:00:01\r\u001b[K     |███████████▉                    | 839kB 18.8MB/s eta 0:00:01\r\u001b[K     |████████████                    | 849kB 18.8MB/s eta 0:00:01\r\u001b[K     |████████████▏                   | 860kB 18.8MB/s eta 0:00:01\r\u001b[K     |████████████▎                   | 870kB 18.8MB/s eta 0:00:01\r\u001b[K     |████████████▌                   | 880kB 18.8MB/s eta 0:00:01\r\u001b[K     |████████████▋                   | 890kB 18.8MB/s eta 0:00:01\r\u001b[K     |████████████▊                   | 901kB 18.8MB/s eta 0:00:01\r\u001b[K     |█████████████                   | 911kB 18.8MB/s eta 0:00:01\r\u001b[K     |█████████████                   | 921kB 18.8MB/s eta 0:00:01\r\u001b[K     |█████████████▏                  | 931kB 18.8MB/s eta 0:00:01\r\u001b[K     |█████████████▍                  | 942kB 18.8MB/s eta 0:00:01\r\u001b[K     |█████████████▌                  | 952kB 18.8MB/s eta 0:00:01\r\u001b[K     |█████████████▋                  | 962kB 18.8MB/s eta 0:00:01\r\u001b[K     |█████████████▊                  | 972kB 18.8MB/s eta 0:00:01\r\u001b[K     |██████████████                  | 983kB 18.8MB/s eta 0:00:01\r\u001b[K     |██████████████                  | 993kB 18.8MB/s eta 0:00:01\r\u001b[K     |██████████████▏                 | 1.0MB 18.8MB/s eta 0:00:01\r\u001b[K     |██████████████▍                 | 1.0MB 18.8MB/s eta 0:00:01\r\u001b[K     |██████████████▌                 | 1.0MB 18.8MB/s eta 0:00:01\r\u001b[K     |██████████████▋                 | 1.0MB 18.8MB/s eta 0:00:01\r\u001b[K     |██████████████▉                 | 1.0MB 18.8MB/s eta 0:00:01\r\u001b[K     |███████████████                 | 1.1MB 18.8MB/s eta 0:00:01\r\u001b[K     |███████████████                 | 1.1MB 18.8MB/s eta 0:00:01\r\u001b[K     |███████████████▏                | 1.1MB 18.8MB/s eta 0:00:01\r\u001b[K     |███████████████▍                | 1.1MB 18.8MB/s eta 0:00:01\r\u001b[K     |███████████████▌                | 1.1MB 18.8MB/s eta 0:00:01\r\u001b[K     |███████████████▋                | 1.1MB 18.8MB/s eta 0:00:01\r\u001b[K     |███████████████▉                | 1.1MB 18.8MB/s eta 0:00:01\r\u001b[K     |████████████████                | 1.1MB 18.8MB/s eta 0:00:01\r\u001b[K     |████████████████                | 1.1MB 18.8MB/s eta 0:00:01\r\u001b[K     |████████████████▎               | 1.1MB 18.8MB/s eta 0:00:01\r\u001b[K     |████████████████▍               | 1.2MB 18.8MB/s eta 0:00:01\r\u001b[K     |████████████████▌               | 1.2MB 18.8MB/s eta 0:00:01\r\u001b[K     |████████████████▊               | 1.2MB 18.8MB/s eta 0:00:01\r\u001b[K     |████████████████▉               | 1.2MB 18.8MB/s eta 0:00:01\r\u001b[K     |█████████████████               | 1.2MB 18.8MB/s eta 0:00:01\r\u001b[K     |█████████████████               | 1.2MB 18.8MB/s eta 0:00:01\r\u001b[K     |█████████████████▎              | 1.2MB 18.8MB/s eta 0:00:01\r\u001b[K     |█████████████████▍              | 1.2MB 18.8MB/s eta 0:00:01\r\u001b[K     |█████████████████▌              | 1.2MB 18.8MB/s eta 0:00:01\r\u001b[K     |█████████████████▊              | 1.2MB 18.8MB/s eta 0:00:01\r\u001b[K     |█████████████████▉              | 1.3MB 18.8MB/s eta 0:00:01\r\u001b[K     |██████████████████              | 1.3MB 18.8MB/s eta 0:00:01\r\u001b[K     |██████████████████▏             | 1.3MB 18.8MB/s eta 0:00:01\r\u001b[K     |██████████████████▎             | 1.3MB 18.8MB/s eta 0:00:01\r\u001b[K     |██████████████████▍             | 1.3MB 18.8MB/s eta 0:00:01\r\u001b[K     |██████████████████▋             | 1.3MB 18.8MB/s eta 0:00:01\r\u001b[K     |██████████████████▊             | 1.3MB 18.8MB/s eta 0:00:01\r\u001b[K     |██████████████████▉             | 1.3MB 18.8MB/s eta 0:00:01\r\u001b[K     |███████████████████             | 1.3MB 18.8MB/s eta 0:00:01\r\u001b[K     |███████████████████▏            | 1.4MB 18.8MB/s eta 0:00:01\r\u001b[K     |███████████████████▎            | 1.4MB 18.8MB/s eta 0:00:01\r\u001b[K     |███████████████████▍            | 1.4MB 18.8MB/s eta 0:00:01\r\u001b[K     |███████████████████▋            | 1.4MB 18.8MB/s eta 0:00:01\r\u001b[K     |███████████████████▊            | 1.4MB 18.8MB/s eta 0:00:01\r\u001b[K     |███████████████████▉            | 1.4MB 18.8MB/s eta 0:00:01\r\u001b[K     |████████████████████            | 1.4MB 18.8MB/s eta 0:00:01\r\u001b[K     |████████████████████▏           | 1.4MB 18.8MB/s eta 0:00:01\r\u001b[K     |████████████████████▎           | 1.4MB 18.8MB/s eta 0:00:01\r\u001b[K     |████████████████████▍           | 1.4MB 18.8MB/s eta 0:00:01\r\u001b[K     |████████████████████▋           | 1.5MB 18.8MB/s eta 0:00:01\r\u001b[K     |████████████████████▊           | 1.5MB 18.8MB/s eta 0:00:01\r\u001b[K     |████████████████████▉           | 1.5MB 18.8MB/s eta 0:00:01\r\u001b[K     |█████████████████████           | 1.5MB 18.8MB/s eta 0:00:01\r\u001b[K     |█████████████████████▏          | 1.5MB 18.8MB/s eta 0:00:01\r\u001b[K     |█████████████████████▎          | 1.5MB 18.8MB/s eta 0:00:01\r\u001b[K     |█████████████████████▌          | 1.5MB 18.8MB/s eta 0:00:01\r\u001b[K     |█████████████████████▋          | 1.5MB 18.8MB/s eta 0:00:01\r\u001b[K     |█████████████████████▊          | 1.5MB 18.8MB/s eta 0:00:01\r\u001b[K     |██████████████████████          | 1.5MB 18.8MB/s eta 0:00:01\r\u001b[K     |██████████████████████          | 1.6MB 18.8MB/s eta 0:00:01\r\u001b[K     |██████████████████████▏         | 1.6MB 18.8MB/s eta 0:00:01\r\u001b[K     |██████████████████████▎         | 1.6MB 18.8MB/s eta 0:00:01\r\u001b[K     |██████████████████████▌         | 1.6MB 18.8MB/s eta 0:00:01\r\u001b[K     |██████████████████████▋         | 1.6MB 18.8MB/s eta 0:00:01\r\u001b[K     |██████████████████████▊         | 1.6MB 18.8MB/s eta 0:00:01\r\u001b[K     |███████████████████████         | 1.6MB 18.8MB/s eta 0:00:01\r\u001b[K     |███████████████████████         | 1.6MB 18.8MB/s eta 0:00:01\r\u001b[K     |███████████████████████▏        | 1.6MB 18.8MB/s eta 0:00:01\r\u001b[K     |███████████████████████▍        | 1.6MB 18.8MB/s eta 0:00:01\r\u001b[K     |███████████████████████▌        | 1.7MB 18.8MB/s eta 0:00:01\r\u001b[K     |███████████████████████▋        | 1.7MB 18.8MB/s eta 0:00:01\r\u001b[K     |███████████████████████▊        | 1.7MB 18.8MB/s eta 0:00:01\r\u001b[K     |████████████████████████        | 1.7MB 18.8MB/s eta 0:00:01\r\u001b[K     |████████████████████████        | 1.7MB 18.8MB/s eta 0:00:01\r\u001b[K     |████████████████████████▏       | 1.7MB 18.8MB/s eta 0:00:01\r\u001b[K     |████████████████████████▍       | 1.7MB 18.8MB/s eta 0:00:01\r\u001b[K     |████████████████████████▌       | 1.7MB 18.8MB/s eta 0:00:01\r\u001b[K     |████████████████████████▋       | 1.7MB 18.8MB/s eta 0:00:01\r\u001b[K     |████████████████████████▉       | 1.8MB 18.8MB/s eta 0:00:01\r\u001b[K     |█████████████████████████       | 1.8MB 18.8MB/s eta 0:00:01\r\u001b[K     |█████████████████████████       | 1.8MB 18.8MB/s eta 0:00:01\r\u001b[K     |█████████████████████████▎      | 1.8MB 18.8MB/s eta 0:00:01\r\u001b[K     |█████████████████████████▍      | 1.8MB 18.8MB/s eta 0:00:01\r\u001b[K     |█████████████████████████▌      | 1.8MB 18.8MB/s eta 0:00:01\r\u001b[K     |█████████████████████████▋      | 1.8MB 18.8MB/s eta 0:00:01\r\u001b[K     |█████████████████████████▉      | 1.8MB 18.8MB/s eta 0:00:01\r\u001b[K     |██████████████████████████      | 1.8MB 18.8MB/s eta 0:00:01\r\u001b[K     |██████████████████████████      | 1.8MB 18.8MB/s eta 0:00:01\r\u001b[K     |██████████████████████████▎     | 1.9MB 18.8MB/s eta 0:00:01\r\u001b[K     |██████████████████████████▍     | 1.9MB 18.8MB/s eta 0:00:01\r\u001b[K     |██████████████████████████▌     | 1.9MB 18.8MB/s eta 0:00:01\r\u001b[K     |██████████████████████████▊     | 1.9MB 18.8MB/s eta 0:00:01\r\u001b[K     |██████████████████████████▉     | 1.9MB 18.8MB/s eta 0:00:01\r\u001b[K     |███████████████████████████     | 1.9MB 18.8MB/s eta 0:00:01\r\u001b[K     |███████████████████████████     | 1.9MB 18.8MB/s eta 0:00:01\r\u001b[K     |███████████████████████████▎    | 1.9MB 18.8MB/s eta 0:00:01\r\u001b[K     |███████████████████████████▍    | 1.9MB 18.8MB/s eta 0:00:01\r\u001b[K     |███████████████████████████▌    | 1.9MB 18.8MB/s eta 0:00:01\r\u001b[K     |███████████████████████████▊    | 2.0MB 18.8MB/s eta 0:00:01\r\u001b[K     |███████████████████████████▉    | 2.0MB 18.8MB/s eta 0:00:01\r\u001b[K     |████████████████████████████    | 2.0MB 18.8MB/s eta 0:00:01\r\u001b[K     |████████████████████████████▏   | 2.0MB 18.8MB/s eta 0:00:01\r\u001b[K     |████████████████████████████▎   | 2.0MB 18.8MB/s eta 0:00:01\r\u001b[K     |████████████████████████████▍   | 2.0MB 18.8MB/s eta 0:00:01\r\u001b[K     |████████████████████████████▋   | 2.0MB 18.8MB/s eta 0:00:01\r\u001b[K     |████████████████████████████▊   | 2.0MB 18.8MB/s eta 0:00:01\r\u001b[K     |████████████████████████████▉   | 2.0MB 18.8MB/s eta 0:00:01\r\u001b[K     |█████████████████████████████   | 2.0MB 18.8MB/s eta 0:00:01\r\u001b[K     |█████████████████████████████▏  | 2.1MB 18.8MB/s eta 0:00:01\r\u001b[K     |█████████████████████████████▎  | 2.1MB 18.8MB/s eta 0:00:01\r\u001b[K     |█████████████████████████████▍  | 2.1MB 18.8MB/s eta 0:00:01\r\u001b[K     |█████████████████████████████▋  | 2.1MB 18.8MB/s eta 0:00:01\r\u001b[K     |█████████████████████████████▊  | 2.1MB 18.8MB/s eta 0:00:01\r\u001b[K     |█████████████████████████████▉  | 2.1MB 18.8MB/s eta 0:00:01\r\u001b[K     |██████████████████████████████  | 2.1MB 18.8MB/s eta 0:00:01\r\u001b[K     |██████████████████████████████▏ | 2.1MB 18.8MB/s eta 0:00:01\r\u001b[K     |██████████████████████████████▎ | 2.1MB 18.8MB/s eta 0:00:01\r\u001b[K     |██████████████████████████████▍ | 2.2MB 18.8MB/s eta 0:00:01\r\u001b[K     |██████████████████████████████▋ | 2.2MB 18.8MB/s eta 0:00:01\r\u001b[K     |██████████████████████████████▊ | 2.2MB 18.8MB/s eta 0:00:01\r\u001b[K     |██████████████████████████████▉ | 2.2MB 18.8MB/s eta 0:00:01\r\u001b[K     |███████████████████████████████ | 2.2MB 18.8MB/s eta 0:00:01\r\u001b[K     |███████████████████████████████▏| 2.2MB 18.8MB/s eta 0:00:01\r\u001b[K     |███████████████████████████████▎| 2.2MB 18.8MB/s eta 0:00:01\r\u001b[K     |███████████████████████████████▌| 2.2MB 18.8MB/s eta 0:00:01\r\u001b[K     |███████████████████████████████▋| 2.2MB 18.8MB/s eta 0:00:01\r\u001b[K     |███████████████████████████████▊| 2.2MB 18.8MB/s eta 0:00:01\r\u001b[K     |████████████████████████████████| 2.3MB 18.8MB/s eta 0:00:01\r\u001b[K     |████████████████████████████████| 2.3MB 18.8MB/s \n",
            "\u001b[?25hRequirement already satisfied: opencv-python>=4.1.0 in /usr/local/lib/python3.6/dist-packages (from mtcnn) (4.1.2.30)\n",
            "Requirement already satisfied: keras>=2.0.0 in /usr/local/lib/python3.6/dist-packages (from mtcnn) (2.2.5)\n",
            "Requirement already satisfied: numpy>=1.11.3 in /usr/local/lib/python3.6/dist-packages (from opencv-python>=4.1.0->mtcnn) (1.17.5)\n",
            "Requirement already satisfied: keras-preprocessing>=1.1.0 in /usr/local/lib/python3.6/dist-packages (from keras>=2.0.0->mtcnn) (1.1.0)\n",
            "Requirement already satisfied: pyyaml in /usr/local/lib/python3.6/dist-packages (from keras>=2.0.0->mtcnn) (3.13)\n",
            "Requirement already satisfied: scipy>=0.14 in /usr/local/lib/python3.6/dist-packages (from keras>=2.0.0->mtcnn) (1.4.1)\n",
            "Requirement already satisfied: h5py in /usr/local/lib/python3.6/dist-packages (from keras>=2.0.0->mtcnn) (2.8.0)\n",
            "Requirement already satisfied: keras-applications>=1.0.8 in /usr/local/lib/python3.6/dist-packages (from keras>=2.0.0->mtcnn) (1.0.8)\n",
            "Requirement already satisfied: six>=1.9.0 in /usr/local/lib/python3.6/dist-packages (from keras>=2.0.0->mtcnn) (1.12.0)\n",
            "Installing collected packages: mtcnn\n",
            "Successfully installed mtcnn-0.1.0\n"
          ],
          "name": "stdout"
        }
      ]
    },
    {
      "cell_type": "code",
      "metadata": {
        "id": "0PWnWBaV-JXE",
        "colab_type": "code",
        "outputId": "80df5044-d9df-4026-f16f-892e0568d021",
        "colab": {
          "base_uri": "https://localhost:8080/",
          "height": 589
        }
      },
      "source": [
        "from matplotlib.patches import Rectangle\n",
        "from matplotlib.patches import Circle\n",
        "from mtcnn.mtcnn import MTCNN\n",
        "import cv2\n",
        "import time\n",
        "import os\n",
        "\n",
        "count = 0\n",
        "withoutface = 0\n",
        "withface = 0\n",
        "totalfaces = 0\n",
        "test_filenames = filter(lambda x: x.endswith('.jpg'), os.listdir('/content/drive/My Drive/SIH Project/FaceTestData/'))\n",
        "# Get full paths to test images\n",
        "paths_to_test_images = ['/content/drive/My Drive/SIH Project/FaceTestData/' + x for x in test_filenames]\n",
        "start = time.time()\n",
        "for data_path in paths_to_test_images:\n",
        "    data = cv2.imread(data_path)\n",
        "    detector = MTCNN()\n",
        "    # detect faces in the image\n",
        "    result_list = detector.detect_faces(data)\n",
        "    # display faces on the original image\n",
        "    # plot each face as a subplot\n",
        "    imgframe = data\n",
        "    for i in range(len(result_list)):\n",
        "        # get coordinates\n",
        "        x1, y1, width, height = result_list[i]['box']\n",
        "        x2, y2 = x1 + width, y1 + height\n",
        "        cv2.rectangle(imgframe, (x1, y1), (x2, y2), (255, 0, 0), 2)\n",
        "        totalfaces = totalfaces + 1\n",
        "\n",
        "    if len(result_list)>0:\n",
        "        withface = withface + 1\n",
        "        cv2.imwrite('/content/drive/My Drive/SIH Project/MTCNNResult/FaceDetected/img_{}.jpg'.format(count),imgframe)\n",
        "    else:\n",
        "        withoutface = withoutface + 1\n",
        "        cv2.imwrite('/content/drive/My Drive/SIH Project/MTCNNResult/NoFaceDetected/img_{}.jpg'.format(count),imgframe)\n",
        "    count = count + 1\n",
        "else:\n",
        "    end = time.time()\n",
        "    print(\"USING MTCNN:\")\n",
        "    print(\"Total test images with faces : {}\".format(len(paths_to_test_images)))\n",
        "    print(\"Sucessfully tested {} images\".format(count))\n",
        "    print(\"Execution time in seconds {}\".format(end-start))\n",
        "    print(\"Total Faces Detected {}\".format(totalfaces))\n",
        "    print(\"Images with Faces {}\".format(withface))\n",
        "    print(\"Images without Faces {}\".format(withoutface))"
      ],
      "execution_count": 4,
      "outputs": [
        {
          "output_type": "stream",
          "text": [
            "Using TensorFlow backend.\n"
          ],
          "name": "stderr"
        },
        {
          "output_type": "display_data",
          "data": {
            "text/html": [
              "<p style=\"color: red;\">\n",
              "The default version of TensorFlow in Colab will soon switch to TensorFlow 2.x.<br>\n",
              "We recommend you <a href=\"https://www.tensorflow.org/guide/migrate\" target=\"_blank\">upgrade</a> now \n",
              "or ensure your notebook will continue to use TensorFlow 1.x via the <code>%tensorflow_version 1.x</code> magic:\n",
              "<a href=\"https://colab.research.google.com/notebooks/tensorflow_version.ipynb\" target=\"_blank\">more info</a>.</p>\n"
            ],
            "text/plain": [
              "<IPython.core.display.HTML object>"
            ]
          },
          "metadata": {
            "tags": []
          }
        },
        {
          "output_type": "stream",
          "text": [
            "WARNING:tensorflow:From /usr/local/lib/python3.6/dist-packages/keras/backend/tensorflow_backend.py:66: The name tf.get_default_graph is deprecated. Please use tf.compat.v1.get_default_graph instead.\n",
            "\n",
            "WARNING:tensorflow:From /usr/local/lib/python3.6/dist-packages/keras/backend/tensorflow_backend.py:541: The name tf.placeholder is deprecated. Please use tf.compat.v1.placeholder instead.\n",
            "\n",
            "WARNING:tensorflow:From /usr/local/lib/python3.6/dist-packages/keras/backend/tensorflow_backend.py:4432: The name tf.random_uniform is deprecated. Please use tf.random.uniform instead.\n",
            "\n",
            "WARNING:tensorflow:From /usr/local/lib/python3.6/dist-packages/keras/backend/tensorflow_backend.py:4267: The name tf.nn.max_pool is deprecated. Please use tf.nn.max_pool2d instead.\n",
            "\n",
            "WARNING:tensorflow:From /usr/local/lib/python3.6/dist-packages/keras/backend/tensorflow_backend.py:190: The name tf.get_default_session is deprecated. Please use tf.compat.v1.get_default_session instead.\n",
            "\n",
            "WARNING:tensorflow:From /usr/local/lib/python3.6/dist-packages/keras/backend/tensorflow_backend.py:197: The name tf.ConfigProto is deprecated. Please use tf.compat.v1.ConfigProto instead.\n",
            "\n",
            "WARNING:tensorflow:From /usr/local/lib/python3.6/dist-packages/keras/backend/tensorflow_backend.py:203: The name tf.Session is deprecated. Please use tf.compat.v1.Session instead.\n",
            "\n",
            "WARNING:tensorflow:From /usr/local/lib/python3.6/dist-packages/keras/backend/tensorflow_backend.py:207: The name tf.global_variables is deprecated. Please use tf.compat.v1.global_variables instead.\n",
            "\n",
            "WARNING:tensorflow:From /usr/local/lib/python3.6/dist-packages/keras/backend/tensorflow_backend.py:216: The name tf.is_variable_initialized is deprecated. Please use tf.compat.v1.is_variable_initialized instead.\n",
            "\n",
            "WARNING:tensorflow:From /usr/local/lib/python3.6/dist-packages/keras/backend/tensorflow_backend.py:223: The name tf.variables_initializer is deprecated. Please use tf.compat.v1.variables_initializer instead.\n",
            "\n",
            "USING MTCNN:\n",
            "Total test images with faces : 134\n",
            "Sucessfully tested 134 images\n",
            "Execution time in seconds 1873.3524296283722\n",
            "Total Faces Detected 136\n",
            "Images with Faces 129\n",
            "Images without Faces 5\n"
          ],
          "name": "stdout"
        }
      ]
    },
    {
      "cell_type": "markdown",
      "metadata": {
        "id": "4AZ8MWs7-GHI",
        "colab_type": "text"
      },
      "source": [
        "**DLIB** CNN_FACE_DETECTION MODEL_V1"
      ]
    },
    {
      "cell_type": "code",
      "metadata": {
        "id": "PTt5DBbU-JzX",
        "colab_type": "code",
        "colab": {
          "base_uri": "https://localhost:8080/",
          "height": 143
        },
        "outputId": "3c76e6e8-68ff-48ec-d2c5-d843ae03b1c1"
      },
      "source": [
        "import dlib\n",
        "import os\n",
        "import time\n",
        "import cv2\n",
        "\n",
        "weights = '/content/drive/My Drive/SIH Project/mmod_human_face_detector.dat'\n",
        "cnn_face_detector = dlib.cnn_face_detection_model_v1(weights)\n",
        "count = 0\n",
        "withoutface = 0\n",
        "withface = 0\n",
        "totalfaces = 0\n",
        "test_filenames = filter(lambda x: x.endswith('.jpg'), os.listdir('/content/drive/My Drive/SIH Project/FaceTestData/'))\n",
        "# Get full paths to test images\n",
        "paths_to_test_images = ['/content/drive/My Drive/SIH Project/FaceTestData/' + x for x in test_filenames]\n",
        "start = time.time()\n",
        "for data_path in paths_to_test_images:\n",
        "    img = cv2.imread(data_path)\n",
        "    # apply face detection (cnn)\n",
        "    faces_cnn = cnn_face_detector(img, 1)\n",
        "    imgframe = img\n",
        "    # loop over detected faces\n",
        "    for face in faces_cnn:\n",
        "        x = face.rect.left()\n",
        "        y = face.rect.top()\n",
        "        w = face.rect.right() - x\n",
        "        h = face.rect.bottom() - y\n",
        "        # draw box over face\n",
        "        cv2.rectangle(imgframe, (x,y), (x+w,y+h), (0,0,255), 2)\n",
        "        totalfaces = totalfaces + 1\n",
        "    if len(faces)>0:\n",
        "        withface = withface + 1\n",
        "        cv2.imwrite('/content/drive/My Drive/SIH Project/DlibResult/CNN/FaceDetected/img_{}.jpg'.format(count),imgframe)\n",
        "    else:\n",
        "        withoutface = withoutface + 1\n",
        "        cv2.imwrite('/content/drive/My Drive/SIH Project/DlibResult/CNN/NoFaceDetected/img_{}.jpg'.format(count),imgframe)\n",
        "    count = count + 1\n",
        "else:\n",
        "    end = time.time()\n",
        "    print(\"USING DLIB CNN:\")\n",
        "    print(\"Total test images with faces : {}\".format(len(paths_to_test_images)))\n",
        "    print(\"Sucessfully tested {} images\".format(count))\n",
        "    print(\"Execution time in seconds {}\".format(end-start))\n",
        "    print(\"Total Faces Detected {}\".format(totalfaces))\n",
        "    print(\"Images with Faces {}\".format(withface))\n",
        "    print(\"Images without Faces {}\".format(withoutface))\n",
        "    \n"
      ],
      "execution_count": 8,
      "outputs": [
        {
          "output_type": "stream",
          "text": [
            "USING DLIB CNN:\n",
            "Total test images with faces : 134\n",
            "Sucessfully tested 134 images\n",
            "Execution time in seconds 15.498892068862915\n",
            "Total Faces Detected 138\n",
            "Images with Faces 134\n",
            "Images without Faces 0\n"
          ],
          "name": "stdout"
        }
      ]
    },
    {
      "cell_type": "markdown",
      "metadata": {
        "id": "0sOoGz3qMMKr",
        "colab_type": "text"
      },
      "source": [
        "**DLIB** FRONTAL_FACE_DETECTOR"
      ]
    },
    {
      "cell_type": "code",
      "metadata": {
        "id": "OfnOKzOxML39",
        "colab_type": "code",
        "colab": {
          "base_uri": "https://localhost:8080/",
          "height": 143
        },
        "outputId": "9296f775-4225-4900-e0ed-3bd988eb727a"
      },
      "source": [
        "import dlib\n",
        "import os\n",
        "import time\n",
        "import cv2\n",
        "\n",
        "face_detector = dlib.get_frontal_face_detector()\n",
        "count = 0\n",
        "withoutface = 0\n",
        "withface = 0\n",
        "totalfaces = 0\n",
        "test_filenames = filter(lambda x: x.endswith('.jpg'), os.listdir('/content/drive/My Drive/SIH Project/FaceTestData/'))\n",
        "# Get full paths to test images\n",
        "paths_to_test_images = ['/content/drive/My Drive/SIH Project/FaceTestData/' + x for x in test_filenames]\n",
        "start = time.time()\n",
        "for data_path in paths_to_test_images:\n",
        "    img = cv2.imread(data_path)\n",
        "    faces = face_detector(img, 1)\n",
        "    imgframe = img\n",
        "    for face in faces:\n",
        "        x = face.left()\n",
        "        y = face.top()\n",
        "        w = face.right() - x\n",
        "        h = face.bottom() - y\n",
        "        # draw box over face\n",
        "        cv2.rectangle(imgframe, (x,y), (x+w,y+h), (0,0,255), 2)\n",
        "        totalfaces = totalfaces + 1\n",
        "    if len(faces)>0:\n",
        "        withface = withface + 1\n",
        "        cv2.imwrite('/content/drive/My Drive/SIH Project/DlibResult/FRONTAL_FACE_DETECTOR/FaceDetected/img_{}.jpg'.format(count),imgframe)\n",
        "    else:\n",
        "        withoutface = withoutface + 1\n",
        "        cv2.imwrite('/content/drive/My Drive/SIH Project/DlibResult/FRONTAL_FACE_DETECTOR/NoFaceDetected/img_{}.jpg'.format(count),imgframe)\n",
        "    count = count + 1\n",
        "else:\n",
        "    end = time.time()\n",
        "    print(\"USING DLIB FRONTAL_FACE_DETECTOR\")\n",
        "    print(\"Total test images with faces : {}\".format(len(paths_to_test_images)))\n",
        "    print(\"Sucessfully tested {} images\".format(count))\n",
        "    print(\"Execution time in seconds {}\".format(end-start))\n",
        "    print(\"Total Faces Detected {}\".format(totalfaces))\n",
        "    print(\"Images with Faces {}\".format(withface))\n",
        "    print(\"Images without Faces {}\".format(withoutface))\n",
        "    "
      ],
      "execution_count": 6,
      "outputs": [
        {
          "output_type": "stream",
          "text": [
            "USING DLIB FRONTAL_FACE_DETECTOR\n",
            "Total test images with faces : 134\n",
            "Sucessfully tested 134 images\n",
            "Execution time in seconds 15.120457887649536\n",
            "Total Faces Detected 132\n",
            "Images with Faces 126\n",
            "Images without Faces 8\n"
          ],
          "name": "stdout"
        }
      ]
    }
  ]
}