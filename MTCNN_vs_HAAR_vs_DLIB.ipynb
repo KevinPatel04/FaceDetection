{
 "cells": [
  {
   "cell_type": "markdown",
   "metadata": {
    "colab_type": "text",
    "id": "vpoA5fRI9rY5"
   },
   "source": [
    "Performance comparision between MTCNN Vs. HAAR Cascading Vs. DLIB for face detection"
   ]
  },
  {
   "cell_type": "markdown",
   "metadata": {
    "colab_type": "text",
    "id": "UOwSggk99-_6"
   },
   "source": [
    "**HAAR**"
   ]
  },
  {
   "cell_type": "code",
   "execution_count": 2,
   "metadata": {
    "colab": {
     "base_uri": "https://localhost:8080/",
     "height": 143
    },
    "colab_type": "code",
    "id": "er9nJGtg98op",
    "outputId": "24296e6c-83ce-4d3e-99fa-8a046f67a232"
   },
   "outputs": [
    {
     "name": "stdout",
     "output_type": "stream",
     "text": [
      "USING HAAR:\n",
      "Total test images with faces : 134\n",
      "Sucessfully tested 134 images\n",
      "Execution time in seconds 83.03262686729431\n",
      "Total Faces Detected 145\n",
      "Images with Faces 121\n",
      "Images without Faces 13\n"
     ]
    }
   ],
   "source": [
    "import cv2\n",
    "import time\n",
    "import os\n",
    "\n",
    "# Load the cascade\n",
    "face_cascade = cv2.CascadeClassifier('haarcascade_frontalface_default.xml')\n",
    "count = 0\n",
    "withoutface = 0\n",
    "withface = 0\n",
    "totalfaces = 0\n",
    "test_filenames = filter(lambda x: x.endswith('.jpg'), os.listdir('FaceTestData/'))\n",
    "# Get full paths to test images\n",
    "paths_to_test_images = ['FaceTestData/' + x for x in test_filenames]\n",
    "start = time.time()\n",
    "for data_path in paths_to_test_images:\n",
    "    img = cv2.imread(data_path)\n",
    "    # Convert to grayscale\n",
    "    imgframe = img\n",
    "    gray = cv2.cvtColor(img, cv2.COLOR_BGR2GRAY)\n",
    "    # Detect the faces\n",
    "    faces = face_cascade.detectMultiScale(gray, 1.1, 4)\n",
    "    # Draw the rectangle around each face\n",
    "    for (x, y, w, h) in faces:\n",
    "       cv2.rectangle(imgframe, (x, y), (x+w, y+h), (255, 0, 0), 2)\n",
    "       totalfaces = totalfaces + 1\n",
    "\n",
    "    if len(faces)>0:\n",
    "        withface = withface + 1\n",
    "        cv2.imwrite('FaceDetectionAnalysis/HaarResult/FaceDetected/img_{}.jpg'.format(count),imgframe)\n",
    "    else:\n",
    "        withoutface = withoutface + 1\n",
    "        cv2.imwrite('FaceDetectionAnalysis/HaarResult/NoFaceDetected/img_{}.jpg'.format(count),imgframe)\n",
    "    count = count + 1\n",
    "else:\n",
    "    end = time.time()\n",
    "    print(\"USING HAAR:\")\n",
    "    print(\"Total test images with faces : {}\".format(len(paths_to_test_images)))\n",
    "    print(\"Sucessfully tested {} images\".format(count))\n",
    "    print(\"Execution time in seconds {}\".format(end-start))\n",
    "    print(\"Total Faces Detected {}\".format(totalfaces))\n",
    "    print(\"Images with Faces {}\".format(withface))\n",
    "    print(\"Images without Faces {}\".format(withoutface))    "
   ]
  },
  {
   "cell_type": "markdown",
   "metadata": {
    "colab_type": "text",
    "id": "zHsG9ssJ-DKg"
   },
   "source": [
    "**MTCNN**"
   ]
  },
  {
   "cell_type": "code",
   "execution_count": 3,
   "metadata": {
    "colab": {
     "base_uri": "https://localhost:8080/",
     "height": 289
    },
    "colab_type": "code",
    "id": "JcnXQKoAHhJ1",
    "outputId": "59ed430a-b678-4c66-936f-d8f20c3cda93"
   },
   "outputs": [
    {
     "name": "stdout",
     "output_type": "stream",
     "text": [
      "Collecting mtcnn\n",
      "\u001b[?25l  Downloading https://files.pythonhosted.org/packages/67/43/abee91792797c609c1bf30f1112117f7a87a713ebaa6ec5201d5555a73ef/mtcnn-0.1.0-py3-none-any.whl (2.3MB)\n",
      "\u001b[K     |████████████████████████████████| 2.3MB 18.8MB/s eta 0:00:01\n",
      "\u001b[?25hRequirement already satisfied: opencv-python>=4.1.0 in /usr/local/lib/python3.6/dist-packages (from mtcnn) (4.1.2.30)\n",
      "Requirement already satisfied: keras>=2.0.0 in /usr/local/lib/python3.6/dist-packages (from mtcnn) (2.2.5)\n",
      "Requirement already satisfied: numpy>=1.11.3 in /usr/local/lib/python3.6/dist-packages (from opencv-python>=4.1.0->mtcnn) (1.17.5)\n",
      "Requirement already satisfied: keras-preprocessing>=1.1.0 in /usr/local/lib/python3.6/dist-packages (from keras>=2.0.0->mtcnn) (1.1.0)\n",
      "Requirement already satisfied: pyyaml in /usr/local/lib/python3.6/dist-packages (from keras>=2.0.0->mtcnn) (3.13)\n",
      "Requirement already satisfied: scipy>=0.14 in /usr/local/lib/python3.6/dist-packages (from keras>=2.0.0->mtcnn) (1.4.1)\n",
      "Requirement already satisfied: h5py in /usr/local/lib/python3.6/dist-packages (from keras>=2.0.0->mtcnn) (2.8.0)\n",
      "Requirement already satisfied: keras-applications>=1.0.8 in /usr/local/lib/python3.6/dist-packages (from keras>=2.0.0->mtcnn) (1.0.8)\n",
      "Requirement already satisfied: six>=1.9.0 in /usr/local/lib/python3.6/dist-packages (from keras>=2.0.0->mtcnn) (1.12.0)\n",
      "Installing collected packages: mtcnn\n",
      "Successfully installed mtcnn-0.1.0\n"
     ]
    }
   ],
   "source": [
    "!pip install mtcnn"
   ]
  },
  {
   "cell_type": "code",
   "execution_count": 4,
   "metadata": {
    "colab": {
     "base_uri": "https://localhost:8080/",
     "height": 589
    },
    "colab_type": "code",
    "id": "0PWnWBaV-JXE",
    "outputId": "80df5044-d9df-4026-f16f-892e0568d021"
   },
   "outputs": [
    {
     "name": "stderr",
     "output_type": "stream",
     "text": [
      "Using TensorFlow backend.\n"
     ]
    },
    {
     "data": {
      "text/html": [
       "<p style=\"color: red;\">\n",
       "The default version of TensorFlow in Colab will soon switch to TensorFlow 2.x.<br>\n",
       "We recommend you <a href=\"https://www.tensorflow.org/guide/migrate\" target=\"_blank\">upgrade</a> now \n",
       "or ensure your notebook will continue to use TensorFlow 1.x via the <code>%tensorflow_version 1.x</code> magic:\n",
       "<a href=\"https://colab.research.google.com/notebooks/tensorflow_version.ipynb\" target=\"_blank\">more info</a>.</p>\n"
      ],
      "text/plain": [
       "<IPython.core.display.HTML object>"
      ]
     },
     "metadata": {
      "tags": []
     },
     "output_type": "display_data"
    },
    {
     "name": "stdout",
     "output_type": "stream",
     "text": [
      "WARNING:tensorflow:From /usr/local/lib/python3.6/dist-packages/keras/backend/tensorflow_backend.py:66: The name tf.get_default_graph is deprecated. Please use tf.compat.v1.get_default_graph instead.\n",
      "\n",
      "WARNING:tensorflow:From /usr/local/lib/python3.6/dist-packages/keras/backend/tensorflow_backend.py:541: The name tf.placeholder is deprecated. Please use tf.compat.v1.placeholder instead.\n",
      "\n",
      "WARNING:tensorflow:From /usr/local/lib/python3.6/dist-packages/keras/backend/tensorflow_backend.py:4432: The name tf.random_uniform is deprecated. Please use tf.random.uniform instead.\n",
      "\n",
      "WARNING:tensorflow:From /usr/local/lib/python3.6/dist-packages/keras/backend/tensorflow_backend.py:4267: The name tf.nn.max_pool is deprecated. Please use tf.nn.max_pool2d instead.\n",
      "\n",
      "WARNING:tensorflow:From /usr/local/lib/python3.6/dist-packages/keras/backend/tensorflow_backend.py:190: The name tf.get_default_session is deprecated. Please use tf.compat.v1.get_default_session instead.\n",
      "\n",
      "WARNING:tensorflow:From /usr/local/lib/python3.6/dist-packages/keras/backend/tensorflow_backend.py:197: The name tf.ConfigProto is deprecated. Please use tf.compat.v1.ConfigProto instead.\n",
      "\n",
      "WARNING:tensorflow:From /usr/local/lib/python3.6/dist-packages/keras/backend/tensorflow_backend.py:203: The name tf.Session is deprecated. Please use tf.compat.v1.Session instead.\n",
      "\n",
      "WARNING:tensorflow:From /usr/local/lib/python3.6/dist-packages/keras/backend/tensorflow_backend.py:207: The name tf.global_variables is deprecated. Please use tf.compat.v1.global_variables instead.\n",
      "\n",
      "WARNING:tensorflow:From /usr/local/lib/python3.6/dist-packages/keras/backend/tensorflow_backend.py:216: The name tf.is_variable_initialized is deprecated. Please use tf.compat.v1.is_variable_initialized instead.\n",
      "\n",
      "WARNING:tensorflow:From /usr/local/lib/python3.6/dist-packages/keras/backend/tensorflow_backend.py:223: The name tf.variables_initializer is deprecated. Please use tf.compat.v1.variables_initializer instead.\n",
      "\n",
      "USING MTCNN:\n",
      "Total test images with faces : 134\n",
      "Sucessfully tested 134 images\n",
      "Execution time in seconds 1873.3524296283722\n",
      "Total Faces Detected 136\n",
      "Images with Faces 129\n",
      "Images without Faces 5\n"
     ]
    }
   ],
   "source": [
    "from matplotlib.patches import Rectangle\n",
    "from matplotlib.patches import Circle\n",
    "from mtcnn.mtcnn import MTCNN\n",
    "import cv2\n",
    "import time\n",
    "import os\n",
    "\n",
    "count = 0\n",
    "withoutface = 0\n",
    "withface = 0\n",
    "totalfaces = 0\n",
    "test_filenames = filter(lambda x: x.endswith('.jpg'), os.listdir('FaceTestData/'))\n",
    "# Get full paths to test images\n",
    "paths_to_test_images = ['FaceTestData/' + x for x in test_filenames]\n",
    "start = time.time()\n",
    "for data_path in paths_to_test_images:\n",
    "    data = cv2.imread(data_path)\n",
    "    detector = MTCNN()\n",
    "    # detect faces in the image\n",
    "    result_list = detector.detect_faces(data)\n",
    "    # display faces on the original image\n",
    "    # plot each face as a subplot\n",
    "    imgframe = data\n",
    "    for i in range(len(result_list)):\n",
    "        # get coordinates\n",
    "        x1, y1, width, height = result_list[i]['box']\n",
    "        x2, y2 = x1 + width, y1 + height\n",
    "        cv2.rectangle(imgframe, (x1, y1), (x2, y2), (255, 0, 0), 2)\n",
    "        totalfaces = totalfaces + 1\n",
    "\n",
    "    if len(result_list)>0:\n",
    "        withface = withface + 1\n",
    "        cv2.imwrite('FaceDetectionAnalysis/MTCNNResult/FaceDetected/img_{}.jpg'.format(count),imgframe)\n",
    "    else:\n",
    "        withoutface = withoutface + 1\n",
    "        cv2.imwrite('FaceDetectionAnalysis/MTCNNResult/NoFaceDetected/img_{}.jpg'.format(count),imgframe)\n",
    "    count = count + 1\n",
    "else:\n",
    "    end = time.time()\n",
    "    print(\"USING MTCNN:\")\n",
    "    print(\"Total test images with faces : {}\".format(len(paths_to_test_images)))\n",
    "    print(\"Sucessfully tested {} images\".format(count))\n",
    "    print(\"Execution time in seconds {}\".format(end-start))\n",
    "    print(\"Total Faces Detected {}\".format(totalfaces))\n",
    "    print(\"Images with Faces {}\".format(withface))\n",
    "    print(\"Images without Faces {}\".format(withoutface))"
   ]
  },
  {
   "cell_type": "markdown",
   "metadata": {
    "colab_type": "text",
    "id": "4AZ8MWs7-GHI"
   },
   "source": [
    "**DLIB** CNN_FACE_DETECTION MODEL_V1"
   ]
  },
  {
   "cell_type": "code",
   "execution_count": 8,
   "metadata": {
    "colab": {
     "base_uri": "https://localhost:8080/",
     "height": 143
    },
    "colab_type": "code",
    "id": "PTt5DBbU-JzX",
    "outputId": "3c76e6e8-68ff-48ec-d2c5-d843ae03b1c1"
   },
   "outputs": [
    {
     "name": "stdout",
     "output_type": "stream",
     "text": [
      "USING DLIB CNN:\n",
      "Total test images with faces : 134\n",
      "Sucessfully tested 134 images\n",
      "Execution time in seconds 15.498892068862915\n",
      "Total Faces Detected 138\n",
      "Images with Faces 134\n",
      "Images without Faces 0\n"
     ]
    }
   ],
   "source": [
    "import dlib\n",
    "import os\n",
    "import time\n",
    "import cv2\n",
    "\n",
    "weights = 'mmod_human_face_detector.dat'\n",
    "cnn_face_detector = dlib.cnn_face_detection_model_v1(weights)\n",
    "count = 0\n",
    "withoutface = 0\n",
    "withface = 0\n",
    "totalfaces = 0\n",
    "test_filenames = filter(lambda x: x.endswith('.jpg'), os.listdir('FaceTestData/'))\n",
    "# Get full paths to test images\n",
    "paths_to_test_images = ['FaceTestData/' + x for x in test_filenames]\n",
    "start = time.time()\n",
    "for data_path in paths_to_test_images:\n",
    "    img = cv2.imread(data_path)\n",
    "    # apply face detection (cnn)\n",
    "    faces_cnn = cnn_face_detector(img, 1)\n",
    "    imgframe = img\n",
    "    # loop over detected faces\n",
    "    for face in faces_cnn:\n",
    "        x = face.rect.left()\n",
    "        y = face.rect.top()\n",
    "        w = face.rect.right() - x\n",
    "        h = face.rect.bottom() - y\n",
    "        # draw box over face\n",
    "        cv2.rectangle(imgframe, (x,y), (x+w,y+h), (0,0,255), 2)\n",
    "        totalfaces = totalfaces + 1\n",
    "    if len(faces)>0:\n",
    "        withface = withface + 1\n",
    "        cv2.imwrite('FaceDetectionAnalysis/DlibResult/CNN/FaceDetected/img_{}.jpg'.format(count),imgframe)\n",
    "    else:\n",
    "        withoutface = withoutface + 1\n",
    "        cv2.imwrite('FaceDetectionAnalysis/DlibResult/CNN/NoFaceDetected/img_{}.jpg'.format(count),imgframe)\n",
    "    count = count + 1\n",
    "else:\n",
    "    end = time.time()\n",
    "    print(\"USING DLIB CNN:\")\n",
    "    print(\"Total test images with faces : {}\".format(len(paths_to_test_images)))\n",
    "    print(\"Sucessfully tested {} images\".format(count))\n",
    "    print(\"Execution time in seconds {}\".format(end-start))\n",
    "    print(\"Total Faces Detected {}\".format(totalfaces))\n",
    "    print(\"Images with Faces {}\".format(withface))\n",
    "    print(\"Images without Faces {}\".format(withoutface))\n",
    "    \n"
   ]
  },
  {
   "cell_type": "markdown",
   "metadata": {
    "colab_type": "text",
    "id": "0sOoGz3qMMKr"
   },
   "source": [
    "**DLIB** FRONTAL_FACE_DETECTOR"
   ]
  },
  {
   "cell_type": "code",
   "execution_count": 6,
   "metadata": {
    "colab": {
     "base_uri": "https://localhost:8080/",
     "height": 143
    },
    "colab_type": "code",
    "id": "OfnOKzOxML39",
    "outputId": "9296f775-4225-4900-e0ed-3bd988eb727a"
   },
   "outputs": [
    {
     "name": "stdout",
     "output_type": "stream",
     "text": [
      "USING DLIB FRONTAL_FACE_DETECTOR\n",
      "Total test images with faces : 134\n",
      "Sucessfully tested 134 images\n",
      "Execution time in seconds 15.120457887649536\n",
      "Total Faces Detected 132\n",
      "Images with Faces 126\n",
      "Images without Faces 8\n"
     ]
    }
   ],
   "source": [
    "import dlib\n",
    "import os\n",
    "import time\n",
    "import cv2\n",
    "\n",
    "face_detector = dlib.get_frontal_face_detector()\n",
    "count = 0\n",
    "withoutface = 0\n",
    "withface = 0\n",
    "totalfaces = 0\n",
    "test_filenames = filter(lambda x: x.endswith('.jpg'), os.listdir('FaceTestData/'))\n",
    "# Get full paths to test images\n",
    "paths_to_test_images = ['FaceTestData/' + x for x in test_filenames]\n",
    "start = time.time()\n",
    "for data_path in paths_to_test_images:\n",
    "    img = cv2.imread(data_path)\n",
    "    faces = face_detector(img, 1)\n",
    "    imgframe = img\n",
    "    for face in faces:\n",
    "        x = face.left()\n",
    "        y = face.top()\n",
    "        w = face.right() - x\n",
    "        h = face.bottom() - y\n",
    "        # draw box over face\n",
    "        cv2.rectangle(imgframe, (x,y), (x+w,y+h), (0,0,255), 2)\n",
    "        totalfaces = totalfaces + 1\n",
    "    if len(faces)>0:\n",
    "        withface = withface + 1\n",
    "        cv2.imwrite('FaceDetectionAnalysis/DlibResult/FRONTAL_FACE_DETECTOR/FaceDetected/img_{}.jpg'.format(count),imgframe)\n",
    "    else:\n",
    "        withoutface = withoutface + 1\n",
    "        cv2.imwrite('FaceDetectionAnalysis/DlibResult/FRONTAL_FACE_DETECTOR/NoFaceDetected/img_{}.jpg'.format(count),imgframe)\n",
    "    count = count + 1\n",
    "else:\n",
    "    end = time.time()\n",
    "    print(\"USING DLIB FRONTAL_FACE_DETECTOR\")\n",
    "    print(\"Total test images with faces : {}\".format(len(paths_to_test_images)))\n",
    "    print(\"Sucessfully tested {} images\".format(count))\n",
    "    print(\"Execution time in seconds {}\".format(end-start))\n",
    "    print(\"Total Faces Detected {}\".format(totalfaces))\n",
    "    print(\"Images with Faces {}\".format(withface))\n",
    "    print(\"Images without Faces {}\".format(withoutface))\n",
    "    "
   ]
  }
 ],
 "metadata": {
  "accelerator": "GPU",
  "colab": {
   "collapsed_sections": [],
   "name": "MTCNN vs HAAR vs DLIB.ipynb",
   "provenance": []
  },
  "kernelspec": {
   "display_name": "Python 3",
   "language": "python",
   "name": "python3"
  },
  "language_info": {
   "codemirror_mode": {
    "name": "ipython",
    "version": 3
   },
   "file_extension": ".py",
   "mimetype": "text/x-python",
   "name": "python",
   "nbconvert_exporter": "python",
   "pygments_lexer": "ipython3",
   "version": "3.7.4"
  }
 },
 "nbformat": 4,
 "nbformat_minor": 4
}
